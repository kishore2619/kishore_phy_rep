{
 "cells": [
  {
   "cell_type": "code",
   "execution_count": 1,
   "metadata": {},
   "outputs": [
    {
     "name": "stdout",
     "output_type": "stream",
     "text": [
      "['vaibhav', 'pranav', 'likhith', 'janish', 'ritvik', 'manaswin']\n"
     ]
    }
   ],
   "source": [
    "students = ['vaibhav','pranav','likhith','janish','ritvik','manaswin']\n",
    "print(students)"
   ]
  },
  {
   "cell_type": "code",
   "execution_count": 2,
   "metadata": {},
   "outputs": [
    {
     "name": "stdout",
     "output_type": "stream",
     "text": [
      "keep up good work,Vaibhav\n"
     ]
    }
   ],
   "source": [
    "message = f\"keep up good work,{students[0].title()}\"\n",
    "print(message)"
   ]
  },
  {
   "cell_type": "code",
   "execution_count": 3,
   "metadata": {},
   "outputs": [
    {
     "name": "stdout",
     "output_type": "stream",
     "text": [
      "keep up good work,Pranav\n"
     ]
    }
   ],
   "source": [
    "message = f\"keep up good work,{students[1].title()}\"\n",
    "print(message)"
   ]
  },
  {
   "cell_type": "code",
   "execution_count": 4,
   "metadata": {},
   "outputs": [
    {
     "name": "stdout",
     "output_type": "stream",
     "text": [
      "keep up good work,Likhith\n"
     ]
    }
   ],
   "source": [
    "message = f\"keep up good work,{students[2].title()}\"\n",
    "print(message)"
   ]
  },
  {
   "cell_type": "code",
   "execution_count": 8,
   "metadata": {},
   "outputs": [
    {
     "name": "stdout",
     "output_type": "stream",
     "text": [
      "keep up good work,Janish\n"
     ]
    }
   ],
   "source": [
    "message = f\"keep up good work,{students[3].title()}\"\n",
    "print(message)"
   ]
  },
  {
   "cell_type": "code",
   "execution_count": 10,
   "metadata": {},
   "outputs": [
    {
     "name": "stdout",
     "output_type": "stream",
     "text": [
      "keep up good work,Vaibhav\n",
      "keep up good work,Pranav\n",
      "keep up good work,Likhith\n",
      "keep up good work,Janish\n",
      "keep up good work,Ritvik\n",
      "keep up good work,Manaswin\n"
     ]
    }
   ],
   "source": [
    "for x in students:\n",
    "    print(f\"keep up good work,{x.title()}\")\n"
   ]
  },
  {
   "cell_type": "code",
   "execution_count": 12,
   "metadata": {},
   "outputs": [
    {
     "name": "stdout",
     "output_type": "stream",
     "text": [
      "keep up the good work,Vaibhav\n",
      "looking forward for todays github url{x.title()}\n",
      "keep up the good work,Pranav\n",
      "looking forward for todays github url{x.title()}\n",
      "keep up the good work,Likhith\n",
      "looking forward for todays github url{x.title()}\n",
      "keep up the good work,Janish\n",
      "looking forward for todays github url{x.title()}\n",
      "keep up the good work,Ritvik\n",
      "looking forward for todays github url{x.title()}\n",
      "keep up the good work,Manaswin\n",
      "looking forward for todays github url{x.title()}\n"
     ]
    }
   ],
   "source": [
    "for x in students:\n",
    "    print(f\"keep up the good work,{x.title()}\")\n",
    "    print(\"looking forward for todays github url{x.title()}\")"
   ]
  },
  {
   "cell_type": "code",
   "execution_count": 13,
   "metadata": {},
   "outputs": [
    {
     "name": "stdout",
     "output_type": "stream",
     "text": [
      "keep up the good work,Vaibhav\n",
      "looking forward for todays github practice for url, {x.title()}\n",
      "\n",
      "keep up the good work,Pranav\n",
      "looking forward for todays github practice for url, {x.title()}\n",
      "\n",
      "keep up the good work,Likhith\n",
      "looking forward for todays github practice for url, {x.title()}\n",
      "\n",
      "keep up the good work,Janish\n",
      "looking forward for todays github practice for url, {x.title()}\n",
      "\n",
      "keep up the good work,Ritvik\n",
      "looking forward for todays github practice for url, {x.title()}\n",
      "\n",
      "keep up the good work,Manaswin\n",
      "looking forward for todays github practice for url, {x.title()}\n",
      "\n"
     ]
    }
   ],
   "source": [
    "for x in students:\n",
    "    print(f\"keep up the good work,{x.title()}\")\n",
    "    print(\"looking forward for todays github practice for url, {x.title()}\\n\")"
   ]
  },
  {
   "cell_type": "code",
   "execution_count": 14,
   "metadata": {},
   "outputs": [
    {
     "name": "stdout",
     "output_type": "stream",
     "text": [
      "keep up the good work,Vaibhav\n",
      "looking forward for todays github practice for url, {x.title()}\n",
      "\n",
      "keep up the good work,Pranav\n",
      "looking forward for todays github practice for url, {x.title()}\n",
      "\n",
      "keep up the good work,Likhith\n",
      "looking forward for todays github practice for url, {x.title()}\n",
      "\n",
      "keep up the good work,Janish\n",
      "looking forward for todays github practice for url, {x.title()}\n",
      "\n",
      "keep up the good work,Ritvik\n",
      "looking forward for todays github practice for url, {x.title()}\n",
      "\n",
      "keep up the good work,Manaswin\n",
      "looking forward for todays github practice for url, {x.title()}\n",
      "\n",
      "thank you all for joining in the sesion\n"
     ]
    }
   ],
   "source": [
    "for x in students:\n",
    "\n",
    "    print(f\"keep up the good work,{x.title()}\")\n",
    "    print(\"looking forward for todays github practice for url, {x.title()}\\n\")\n",
    "    \n",
    "print(\"thank you all for joining in the sesion\")    "
   ]
  },
  {
   "cell_type": "code",
   "execution_count": 15,
   "metadata": {},
   "outputs": [
    {
     "name": "stdout",
     "output_type": "stream",
     "text": [
      "keep up the good work,Vaibhav\n",
      "looking forward for todays github practice for url, {x.title()}\n",
      "\n",
      "keep up the good work,Pranav\n",
      "looking forward for todays github practice for url, {x.title()}\n",
      "\n",
      "keep up the good work,Likhith\n",
      "looking forward for todays github practice for url, {x.title()}\n",
      "\n",
      "keep up the good work,Janish\n",
      "looking forward for todays github practice for url, {x.title()}\n",
      "\n",
      "keep up the good work,Ritvik\n",
      "looking forward for todays github practice for url, {x.title()}\n",
      "\n",
      "keep up the good work,Manaswin\n",
      "looking forward for todays github practice for url, {x.title()}\n",
      "\n",
      "thank you all for joining in the sesion\n"
     ]
    }
   ],
   "source": [
    "for x in students:\n",
    "    print(f\"keep up the good work,{x.title()}\")\n",
    "    print(\"looking forward for todays github practice for url, {x.title()}\\n\")\n",
    "    \n",
    "print(\"thank you all for joining in the sesion\")        "
   ]
  },
  {
   "cell_type": "code",
   "execution_count": null,
   "metadata": {},
   "outputs": [],
   "source": []
  }
 ],
 "metadata": {
  "kernelspec": {
   "display_name": "Python 3",
   "language": "python",
   "name": "python3"
  },
  "language_info": {
   "codemirror_mode": {
    "name": "ipython",
    "version": 3
   },
   "file_extension": ".py",
   "mimetype": "text/x-python",
   "name": "python",
   "nbconvert_exporter": "python",
   "pygments_lexer": "ipython3",
   "version": "3.7.0"
  }
 },
 "nbformat": 4,
 "nbformat_minor": 2
}
